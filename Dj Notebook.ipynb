{
 "cells": [
  {
   "cell_type": "markdown",
   "id": "fbd17440",
   "metadata": {},
   "source": [
    "# Introduction\n",
    "notebook provides an overview of key concepts and tools used in Data Science."
   ]
  },
  {
   "cell_type": "markdown",
   "id": "22c5b762",
   "metadata": {},
   "source": [
    "# Data Science Languages\n",
    "- Python\n",
    "- R\n",
    "- SQL\n",
    "- Julia\n",
    "- Scala\n"
   ]
  },
  {
   "cell_type": "markdown",
   "id": "549130dc",
   "metadata": {},
   "source": [
    "# Data Science Libraries\n",
    "- NumPy\n",
    "- Pandas\n",
    "- Matplotlib\n",
    "- Scikit-learn\n",
    "- TensorFlow\n",
    "- Keras"
   ]
  },
  {
   "cell_type": "markdown",
   "id": "ea1ee04b",
   "metadata": {},
   "source": [
    "## Data Science Tools\n",
    "\n",
    "\n",
    "|Tool            | description                                                   |\n",
    "|----------------|---------------------------------------------------|\n",
    "|Jupyter         | Interactive computing environment                 |\n",
    "| RStudio        | Integrated development environment for R          |\n",
    "| Apache Hadoop  | Framework for distributed storage and processing  |\n",
    "| Tableau        | Data visualization tool                           |\n",
    "| Apache Spark   |Unified analytics engine for large-scale data      |"
   ]
  },
  {
   "cell_type": "markdown",
   "id": "7e2fe7a8",
   "metadata": {},
   "source": [
    "## Arithmetic Expression Examples\n",
    "Below are examples of basic arithmetic operations."
   ]
  },
  {
   "cell_type": "code",
   "execution_count": 2,
   "id": "cfa306f8",
   "metadata": {},
   "outputs": [
    {
     "data": {
      "text/plain": [
       "17"
      ]
     },
     "execution_count": 2,
     "metadata": {},
     "output_type": "execute_result"
    }
   ],
   "source": [
    "# Exercise 8: Multiply and add numbers\n",
    "result = (3 * 4) + 5\n",
    "result\n"
   ]
  },
  {
   "cell_type": "code",
   "execution_count": 3,
   "id": "f388856c",
   "metadata": {},
   "outputs": [
    {
     "data": {
      "text/plain": [
       "2.0"
      ]
     },
     "execution_count": 3,
     "metadata": {},
     "output_type": "execute_result"
    }
   ],
   "source": [
    "# Exercise 9: Convert minutes to hours\n",
    "minutes = 120\n",
    "hours = minutes / 60\n",
    "hours\n"
   ]
  },
  {
   "cell_type": "markdown",
   "id": "bbaee8ec",
   "metadata": {},
   "source": [
    "# list of Objectives\n",
    "- Understand the basic components of a Data Science notebook\n",
    "- Learn about common languages Data Science\n",
    "- Demonstrate the use of markdown and cells\n",
    "\n"
   ]
  },
  {
   "cell_type": "markdown",
   "id": "a89725cc",
   "metadata": {},
   "source": [
    "# Author\n",
    "Dejene Bekele Worku"
   ]
  },
  {
   "cell_type": "code",
   "execution_count": null,
   "id": "194303b3",
   "metadata": {},
   "outputs": [],
   "source": []
  }
 ],
 "metadata": {
  "kernelspec": {
   "display_name": "Python 3 (ipykernel)",
   "language": "python",
   "name": "python3"
  },
  "language_info": {
   "codemirror_mode": {
    "name": "ipython",
    "version": 3
   },
   "file_extension": ".py",
   "mimetype": "text/x-python",
   "name": "python",
   "nbconvert_exporter": "python",
   "pygments_lexer": "ipython3",
   "version": "3.11.5"
  }
 },
 "nbformat": 4,
 "nbformat_minor": 5
}
